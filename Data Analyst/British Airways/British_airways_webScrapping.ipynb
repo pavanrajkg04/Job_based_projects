{
 "cells": [
  {
   "cell_type": "code",
   "execution_count": null,
   "metadata": {},
   "outputs": [],
   "source": [
    "%pip install pandas matplotlib openpyxl"
   ]
  },
  {
   "cell_type": "markdown",
   "metadata": {},
   "source": [
    "### Import necessary libraries"
   ]
  },
  {
   "cell_type": "code",
   "execution_count": null,
   "metadata": {},
   "outputs": [],
   "source": [
    "\n",
    "import pandas as pd\n",
    "import numpy as np\n",
    "import matplotlib.pyplot as plt\n",
    "import requests\n",
    "from bs4 import BeautifulSoup"
   ]
  },
  {
   "cell_type": "markdown",
   "metadata": {},
   "source": [
    "### Define a dictionary to hold the review data"
   ]
  },
  {
   "cell_type": "code",
   "execution_count": null,
   "metadata": {},
   "outputs": [],
   "source": [
    "\n",
    "review_table = {\n",
    "    'Name': [],\n",
    "    'Date Published': [],\n",
    "    'review': [],\n",
    "    'overall rating': [],\n",
    "    'Verified customer': [],\n",
    "    'type of travel': [],\n",
    "    'Route': [],\n",
    "    'Date of Travel': [],\n",
    "    'Seat Type': [],\n",
    "    'Seat Comfort': [],\n",
    "    'Cabin Staff Service': [],\n",
    "    'Food & Beverages': [],\n",
    "    'Inflight Entertainment': [],\n",
    "    'Ground Service': [],\n",
    "    'wifi connectivity': [],\n",
    "    'Value For Money': []\n",
    "}"
   ]
  },
  {
   "cell_type": "markdown",
   "metadata": {},
   "source": [
    "### Function to update the review data"
   ]
  },
  {
   "cell_type": "code",
   "execution_count": null,
   "metadata": {},
   "outputs": [],
   "source": [
    "\n",
    "def update_data(reviews):\n",
    "    for review in reviews:\n",
    "        reviewr_name = review.find(\"span\", itemprop=\"name\").text.strip() if review.find(\"span\", itemprop=\"name\") else \"No Name\"\n",
    "        date_published = review.find(\"time\", itemprop=\"datePublished\").text.strip() if review.find(\"time\", itemprop=\"datePublished\") else \"\"\n",
    "        review_head = review.find('h2', class_=\"text_header\").text.strip() if review.find('h2', class_=\"text_header\") else \"No Header\"\n",
    "        ratings = review.find('span', itemprop=\"ratingValue\").text.strip() if review.find('span', itemprop=\"ratingValue\") else \"Nan\"\n",
    "        content_div = review.find('div', itemprop='reviewBody')\n",
    "        verifiedOrNot = 'Verified' if content_div and content_div.find('em', text='Trip Verified') else 'Not Verified'\n",
    "        \n",
    "        rating_table = review.find('table', class_=\"review-ratings\")\n",
    "        if rating_table:\n",
    "            rows = rating_table.find_all('tr')\n",
    "            flag = [0, 0, 0, 0, 0, 0, 0, 0, 0, 0]\n",
    "            for row in rows:\n",
    "                cells = row.find_all(\"td\")\n",
    "                for cell in cells:\n",
    "                    if \"Type Of Traveller\" in cell.text and flag[6] == 0:\n",
    "                        typeOtravel = row.find('td', class_='review-value').text.strip()\n",
    "                        flag[6] = 1\n",
    "                        break\n",
    "                    elif \"Route\" in cell.text and flag[7] == 0:\n",
    "                        route_travelled = row.find('td', class_='review-value').text.strip()\n",
    "                        flag[7] = 1\n",
    "                        break\n",
    "                    elif \"Date Flown\" in cell.text and flag[8] == 0:\n",
    "                        Date_flown = row.find('td', class_='review-value').text.strip()\n",
    "                        flag[8] = 1\n",
    "                        break\n",
    "                    elif \"Seat Type\" in cell.text and flag[9] == 0:\n",
    "                        Seat_type = row.find('td', class_='review-value').text.strip()\n",
    "                        flag[9] = 1\n",
    "                        break\n",
    "                    elif \"Seat Comfort\" in cell.text and flag[0] == 0:\n",
    "                        stars = row.find_all('span', class_=\"star fill\")\n",
    "                        seat_comfort_stars = len(stars) if stars else None\n",
    "                        flag[0] = 1\n",
    "                        break\n",
    "                    elif \"Food & Beverages\" in cell.text and flag[1] == 0:\n",
    "                        stars = row.find_all('span', class_=\"star fill\")\n",
    "                        food_beverages_stars = len(stars) if stars else None\n",
    "                        flag[1] = 1\n",
    "                        break\n",
    "                    elif \"Inflight Entertainment\" in cell.text and flag[2] == 0:\n",
    "                        stars = row.find_all('span', class_=\"star fill\")\n",
    "                        inflight_entertainment_stars = len(stars) if stars else None\n",
    "                        flag[2] = 1\n",
    "                        break\n",
    "                    elif \"Ground Service\" in cell.text and flag[3] == 0:\n",
    "                        stars = row.find_all('span', class_=\"star fill\")\n",
    "                        ground_service_stars = len(stars) if stars else None\n",
    "                        flag[3] = 1\n",
    "                        break\n",
    "                    if \"Wifi & Connectivity\" in cell.text and flag[4] == 0:\n",
    "                        stars = row.find_all('span', class_=\"star fill\")\n",
    "                        wifi_connectivity_stars = len(stars) if stars else None\n",
    "                        flag[4] = 1\n",
    "                        break\n",
    "                    if \"Cabin Staff Service\" in cell.text and flag[5] == 0:\n",
    "                        stars = row.find_all('span', class_=\"star fill\")\n",
    "                        Cabin_Staff_Service_stars = len(stars)\n",
    "                        flag[5] = 1\n",
    "                        break\n",
    "                    elif \"Value For Money\" in cell.text:\n",
    "                        stars = row.find_all('span', class_=\"star fill\")\n",
    "                        value_for_money_stars = len(stars) if stars else None\n",
    "                        break\n",
    "                    else:\n",
    "                        if flag[4] == 0: \n",
    "                            wifi_connectivity_stars = None\n",
    "                        if flag[2] == 0:\n",
    "                            inflight_entertainment_stars = None\n",
    "                        if flag[1] == 0:\n",
    "                            food_beverages_stars = None\n",
    "                        if flag[5] == 0:\n",
    "                            Cabin_Staff_Service_stars = None\n",
    "                        if flag[3] == 0:\n",
    "                            ground_service_stars = None\n",
    "                        if flag[0] == 0:\n",
    "                            seat_comfort_stars = None\n",
    "                        if flag[6] == 0:\n",
    "                            typeOtravel = None\n",
    "                        if flag[7] == 0:\n",
    "                            route_travelled = None\n",
    "                        if flag[8] == 0:\n",
    "                            Date_flown = None\n",
    "                        if flag[9] == 0:\n",
    "                            Seat_type = None\n",
    "                        break\n",
    "        else:\n",
    "            print(\"i was unable to scrape this webpage\")\n",
    "        \n",
    "        review_table[\"Name\"].append(reviewr_name)\n",
    "        review_table[\"Value For Money\"].append(value_for_money_stars)\n",
    "        review_table[\"wifi connectivity\"].append(wifi_connectivity_stars)\n",
    "        review_table[\"Cabin Staff Service\"].append(Cabin_Staff_Service_stars)\n",
    "        review_table[\"Ground Service\"].append(ground_service_stars)\n",
    "        review_table[\"Inflight Entertainment\"].append(inflight_entertainment_stars)\n",
    "        review_table[\"Food & Beverages\"].append(food_beverages_stars)\n",
    "        review_table[\"Seat Comfort\"].append(Cabin_Staff_Service_stars)\n",
    "        review_table[\"Seat Type\"].append(Seat_type)\n",
    "        review_table[\"Date of Travel\"].append(Date_flown)\n",
    "        review_table[\"Route\"].append(route_travelled)\n",
    "        review_table[\"type of travel\"].append(typeOtravel)\n",
    "        review_table[\"Verified customer\"].append(verifiedOrNot)\n",
    "        review_table[\"Date Published\"].append(date_published)\n",
    "        review_table[\"review\"].append(review_head)\n",
    "        review_table[\"overall rating\"].append(ratings)\n"
   ]
  },
  {
   "cell_type": "markdown",
   "metadata": {},
   "source": [
    "### Main scraping loop"
   ]
  },
  {
   "cell_type": "code",
   "execution_count": null,
   "metadata": {},
   "outputs": [],
   "source": [
    "\n",
    "webpage = \"https://www.airlinequality.com/airline-reviews/british-airways\"\n",
    "\n",
    "for i in range(1, 301):\n",
    "    d_webpage = f\"https://www.airlinequality.com/airline-reviews/british-airways/page/{i}/\"\n",
    "    \n",
    "    headers = {'User-Agent': \"Mozilla/5.0 (Windows NT 10.0; Win64; x64) AppleWebKit/537.36 (KHTML, like Gecko) Chrome/42.0.2311.135 Safari/537.36 Edge/12.246\"} \n",
    "    response = requests.get(url=d_webpage, headers=headers)\n",
    "    print(\"page number:\", i)\n",
    "    if response.status_code == 200:\n",
    "        soup = BeautifulSoup(response.text, 'html.parser')\n",
    "        reviews_section = soup.find('section', class_='layout-section layout-2 closer-top')\n",
    "        reviews = reviews_section.find_all(\"article\", itemprop=\"review\")\n",
    "        update_data(reviews)"
   ]
  },
  {
   "cell_type": "markdown",
   "metadata": {},
   "source": [
    "### Create a DataFrame from the review table and save it to an Excel file"
   ]
  },
  {
   "cell_type": "code",
   "execution_count": null,
   "metadata": {},
   "outputs": [],
   "source": [
    "\n",
    "data = pd.DataFrame(review_table)\n",
    "print(data.head())\n",
    "data.to_excel(\"British_Airlines_review1.xlsx\")"
   ]
  }
 ],
 "metadata": {
  "kernelspec": {
   "display_name": "Python 3",
   "language": "python",
   "name": "python3"
  },
  "language_info": {
   "codemirror_mode": {
    "name": "ipython",
    "version": 3
   },
   "file_extension": ".py",
   "mimetype": "text/x-python",
   "name": "python",
   "nbconvert_exporter": "python",
   "pygments_lexer": "ipython3",
   "version": "3.12.4"
  }
 },
 "nbformat": 4,
 "nbformat_minor": 2
}
